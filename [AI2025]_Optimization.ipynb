{
  "nbformat": 4,
  "nbformat_minor": 0,
  "metadata": {
    "colab": {
      "provenance": [],
      "toc_visible": true,
      "include_colab_link": true
    },
    "kernelspec": {
      "name": "python3",
      "display_name": "Python 3"
    },
    "language_info": {
      "name": "python"
    }
  },
  "cells": [
    {
      "cell_type": "markdown",
      "metadata": {
        "id": "view-in-github",
        "colab_type": "text"
      },
      "source": [
        "<a href=\"https://colab.research.google.com/github/Jaehyeon-kr/SeoulTech_AI_Class/blob/main/%5BAI2025%5D_Optimization.ipynb\" target=\"_parent\"><img src=\"https://colab.research.google.com/assets/colab-badge.svg\" alt=\"Open In Colab\"/></a>"
      ]
    },
    {
      "cell_type": "markdown",
      "source": [
        "# Space"
      ],
      "metadata": {
        "id": "xdp4WU2rIU5k"
      }
    },
    {
      "cell_type": "code",
      "source": [],
      "metadata": {
        "id": "-XVPx0PcagEH"
      },
      "execution_count": null,
      "outputs": []
    },
    {
      "cell_type": "code",
      "source": [
        "import os\n",
        "import random"
      ],
      "metadata": {
        "id": "bcirDJxzIT_A"
      },
      "execution_count": 3,
      "outputs": []
    },
    {
      "cell_type": "code",
      "source": [
        "path = \"cdn.cs50.net/ai/2020/spring/lectures/3/src3/hospitals/assets/\"\n",
        "os.system(\"wget -rkpN -np -e robots=off path \" + path)"
      ],
      "metadata": {
        "id": "lqdOpxVvKDJu",
        "colab": {
          "base_uri": "https://localhost:8080/"
        },
        "outputId": "bcf885ad-e5d8-4384-ddc3-d4245a0cd778"
      },
      "execution_count": 4,
      "outputs": [
        {
          "output_type": "execute_result",
          "data": {
            "text/plain": [
              "1024"
            ]
          },
          "metadata": {},
          "execution_count": 4
        }
      ]
    },
    {
      "cell_type": "code",
      "source": [
        "class Space():\n",
        "\n",
        "    def __init__(self, height, width, num_hospitals):\n",
        "        \"\"\"Create a new state space with given dimensions.\"\"\"\n",
        "        self.height = height\n",
        "        self.width = width\n",
        "        self.num_hospitals = num_hospitals\n",
        "        self.houses = set()\n",
        "        self.hospitals = set()\n",
        "\n",
        "    def add_house(self, row, col):\n",
        "        \"\"\"Add a house at a particular location in state space.\"\"\"\n",
        "        self.houses.add((row, col))\n",
        "\n",
        "    def available_spaces(self):\n",
        "        \"\"\"Returns all cells not currently used by a house or hospital.\"\"\"\n",
        "\n",
        "        # Consider all possible cells\n",
        "        candidates = set(\n",
        "            (row, col)\n",
        "            for row in range(self.height)\n",
        "            for col in range(self.width)\n",
        "        )\n",
        "\n",
        "        # Remove all houses and hospitals\n",
        "        for house in self.houses:\n",
        "            candidates.remove(house)\n",
        "        for hospital in self.hospitals:\n",
        "            candidates.remove(hospital)\n",
        "        return candidates\n",
        "\n",
        "    def hill_climb(self, maximum=None, image_prefix=None, log=False):\n",
        "        \"\"\"Performs hill-climbing to find a solution.\"\"\"\n",
        "        count = 0\n",
        "\n",
        "        # Start by initializing hospitals randomly\n",
        "        self.hospitals = set()\n",
        "        for i in range(self.num_hospitals):\n",
        "            self.hospitals.add(random.choice(list(self.available_spaces())))\n",
        "        if log:\n",
        "            print(\"Initial state: cost\", self.get_cost(self.hospitals))\n",
        "        if image_prefix:\n",
        "            self.output_image(f\"{image_prefix}{str(count).zfill(3)}.png\")\n",
        "\n",
        "        # Continue until we reach maximum number of iterations\n",
        "        while maximum is None or count < maximum:\n",
        "            count += 1\n",
        "            best_neighbors = []\n",
        "            best_neighbor_cost = None\n",
        "\n",
        "            # Consider all hospitals to move\n",
        "            for hospital in self.hospitals:\n",
        "\n",
        "                # Consider all neighbors for that hospital\n",
        "                for replacement in self.get_neighbors(*hospital):\n",
        "\n",
        "                    # Generate a neighboring set of hospitals\n",
        "                    neighbor = self.hospitals.copy()\n",
        "                    neighbor.remove(hospital)\n",
        "                    neighbor.add(replacement)\n",
        "\n",
        "                    # Check if neighbor is best so far\n",
        "                    cost = self.get_cost(neighbor)\n",
        "                    if best_neighbor_cost is None or cost < best_neighbor_cost:\n",
        "                        best_neighbor_cost = cost\n",
        "                        best_neighbors = [neighbor]\n",
        "                    elif best_neighbor_cost == cost:\n",
        "                        best_neighbors.append(neighbor)\n",
        "\n",
        "            # None of the neighbors are better than the current state\n",
        "            if best_neighbor_cost >= self.get_cost(self.hospitals):\n",
        "                return self.hospitals\n",
        "\n",
        "            # Move to a highest-valued neighbor\n",
        "            else:\n",
        "                if log:\n",
        "                    print(f\"Found better neighbor: cost {best_neighbor_cost}\")\n",
        "                self.hospitals = random.choice(best_neighbors)\n",
        "\n",
        "            # Generate image\n",
        "            if image_prefix:\n",
        "                self.output_image(f\"{image_prefix}{str(count).zfill(3)}.png\")\n",
        "\n",
        "    def random_restart(self, maximum, image_prefix=None, log=False):\n",
        "        \"\"\"Repeats hill-climbing multiple times.\"\"\"\n",
        "        best_hospitals = None\n",
        "        best_cost = None\n",
        "\n",
        "        # Repeat hill-climbing a fixed number of times\n",
        "        for i in range(maximum):\n",
        "            hospitals = self.hill_climb()\n",
        "            cost = self.get_cost(hospitals)\n",
        "            if best_cost is None or cost < best_cost:\n",
        "                best_cost = cost\n",
        "                best_hospitals = hospitals\n",
        "                if log:\n",
        "                    print(f\"{i}: Found new best state: cost {cost}\")\n",
        "            else:\n",
        "                if log:\n",
        "                    print(f\"{i}: Found state: cost {cost}\")\n",
        "\n",
        "            if image_prefix:\n",
        "                self.output_image(f\"{image_prefix}{str(i).zfill(3)}.png\")\n",
        "\n",
        "        return best_hospitals\n",
        "\n",
        "    def get_cost(self, hospitals):\n",
        "        \"\"\"Calculates sum of distances from houses to nearest hospital.\"\"\"\n",
        "        cost = 0\n",
        "        for house in self.houses:\n",
        "            cost += min(\n",
        "                abs(house[0] - hospital[0]) + abs(house[1] - hospital[1])\n",
        "                for hospital in hospitals\n",
        "            )\n",
        "        return cost\n",
        "\n",
        "    def get_neighbors(self, row, col):\n",
        "        \"\"\"Returns neighbors not already containing a house or hospital.\"\"\"\n",
        "        candidates = [\n",
        "            (row - 1, col),\n",
        "            (row + 1, col),\n",
        "            (row, col - 1),\n",
        "            (row, col + 1)\n",
        "        ]\n",
        "        neighbors = []\n",
        "        for r, c in candidates:\n",
        "            if (r, c) in self.houses or (r, c) in self.hospitals:\n",
        "                continue\n",
        "            if 0 <= r < self.height and 0 <= c < self.width:\n",
        "                neighbors.append((r, c))\n",
        "        return neighbors\n",
        "\n",
        "    def output_image(self, filename):\n",
        "        \"\"\"Generates image with all houses and hospitals.\"\"\"\n",
        "        from PIL import Image, ImageDraw, ImageFont\n",
        "        cell_size = 100\n",
        "        cell_border = 2\n",
        "        cost_size = 40\n",
        "        padding = 10\n",
        "\n",
        "        # Create a blank canvas\n",
        "        img = Image.new(\n",
        "            \"RGBA\",\n",
        "            (self.width * cell_size,\n",
        "             self.height * cell_size + cost_size + padding * 2),\n",
        "            \"white\"\n",
        "        )\n",
        "        house = Image.open(path + \"images/House.png\").resize(\n",
        "            (cell_size, cell_size)\n",
        "        )\n",
        "        hospital = Image.open(path + \"images/Hospital.png\").resize(\n",
        "            (cell_size, cell_size)\n",
        "        )\n",
        "        font = ImageFont.truetype(path + \"fonts/OpenSans-Regular.ttf\", 30)\n",
        "        draw = ImageDraw.Draw(img)\n",
        "\n",
        "        for i in range(self.height):\n",
        "            for j in range(self.width):\n",
        "\n",
        "                # Draw cell\n",
        "                rect = [\n",
        "                    (j * cell_size + cell_border,\n",
        "                     i * cell_size + cell_border),\n",
        "                    ((j + 1) * cell_size - cell_border,\n",
        "                     (i + 1) * cell_size - cell_border)\n",
        "                ]\n",
        "                draw.rectangle(rect, fill=\"black\")\n",
        "\n",
        "                if (i, j) in self.houses:\n",
        "                    img.paste(house, rect[0], house)\n",
        "                if (i, j) in self.hospitals:\n",
        "                    img.paste(hospital, rect[0], hospital)\n",
        "\n",
        "        # Add cost\n",
        "        draw.rectangle(\n",
        "            (0, self.height * cell_size, self.width * cell_size,\n",
        "             self.height * cell_size + cost_size + padding * 2),\n",
        "            \"black\"\n",
        "        )\n",
        "        draw.text(\n",
        "            (padding, self.height * cell_size + padding),\n",
        "            f\"Cost: {self.get_cost(self.hospitals)}\",\n",
        "            fill=\"white\",\n",
        "            font=font\n",
        "        )\n",
        "\n",
        "        img.save(filename)"
      ],
      "metadata": {
        "id": "a42CuKC80pgc"
      },
      "execution_count": 5,
      "outputs": []
    },
    {
      "cell_type": "markdown",
      "source": [
        "Create a new space and add houses randomly"
      ],
      "metadata": {
        "id": "0_nvEetlKTpP"
      }
    },
    {
      "cell_type": "code",
      "source": [
        "s = Space(height=10, width=20, num_hospitals=3)\n",
        "for i in range(15):\n",
        "    s.add_house(random.randrange(s.height), random.randrange(s.width))"
      ],
      "metadata": {
        "id": "Bla5NSZMKJKG"
      },
      "execution_count": 6,
      "outputs": []
    },
    {
      "cell_type": "markdown",
      "source": [
        "Use local search to determine hospital placement"
      ],
      "metadata": {
        "id": "5-s0QuHRKQz-"
      }
    },
    {
      "cell_type": "code",
      "source": [
        "hospitals = s.hill_climb(image_prefix=\"hospitals\", log=True)"
      ],
      "metadata": {
        "id": "hLm_H-23KJ9Z",
        "colab": {
          "base_uri": "https://localhost:8080/"
        },
        "outputId": "b3c46645-0345-46fa-92ed-f4d1e3e6e1b9"
      },
      "execution_count": 7,
      "outputs": [
        {
          "output_type": "stream",
          "name": "stdout",
          "text": [
            "Initial state: cost 100\n",
            "Found better neighbor: cost 95\n",
            "Found better neighbor: cost 90\n",
            "Found better neighbor: cost 86\n",
            "Found better neighbor: cost 82\n",
            "Found better neighbor: cost 78\n",
            "Found better neighbor: cost 76\n",
            "Found better neighbor: cost 74\n",
            "Found better neighbor: cost 72\n",
            "Found better neighbor: cost 70\n",
            "Found better neighbor: cost 69\n",
            "Found better neighbor: cost 68\n",
            "Found better neighbor: cost 67\n",
            "Found better neighbor: cost 64\n",
            "Found better neighbor: cost 63\n",
            "Found better neighbor: cost 62\n",
            "Found better neighbor: cost 61\n",
            "Found better neighbor: cost 58\n",
            "Found better neighbor: cost 55\n",
            "Found better neighbor: cost 54\n",
            "Found better neighbor: cost 53\n",
            "Found better neighbor: cost 52\n",
            "Found better neighbor: cost 51\n"
          ]
        }
      ]
    },
    {
      "cell_type": "markdown",
      "source": [
        "Use random_restart search to determine hospital placement"
      ],
      "metadata": {
        "id": "rNq6f-dyKO06"
      }
    },
    {
      "cell_type": "code",
      "source": [
        "hospitals = s.random_restart(20, image_prefix=\"hospitals\", log=True)"
      ],
      "metadata": {
        "colab": {
          "base_uri": "https://localhost:8080/"
        },
        "id": "jmUW2N3g1e6t",
        "outputId": "478ebad6-5076-4fcb-a495-05417be2636b"
      },
      "execution_count": 8,
      "outputs": [
        {
          "output_type": "stream",
          "name": "stdout",
          "text": [
            "0: Found new best state: cost 61\n",
            "1: Found state: cost 82\n",
            "2: Found new best state: cost 56\n",
            "3: Found state: cost 64\n",
            "4: Found new best state: cost 52\n",
            "5: Found new best state: cost 51\n",
            "6: Found state: cost 54\n",
            "7: Found state: cost 72\n",
            "8: Found state: cost 57\n",
            "9: Found state: cost 57\n",
            "10: Found state: cost 57\n",
            "11: Found state: cost 56\n",
            "12: Found state: cost 61\n",
            "13: Found state: cost 57\n",
            "14: Found state: cost 51\n",
            "15: Found state: cost 62\n",
            "16: Found state: cost 63\n",
            "17: Found state: cost 62\n",
            "18: Found state: cost 51\n",
            "19: Found state: cost 52\n"
          ]
        }
      ]
    },
    {
      "cell_type": "markdown",
      "source": [
        "# Linear Programming\n",
        "\n"
      ],
      "metadata": {
        "id": "eN7mEhmjI7l1"
      }
    },
    {
      "cell_type": "markdown",
      "source": [
        "* Objective Function: $50x_1 + 80x_2$\n",
        "* Constraint 1: $5x_1 + 2x_2 <= 20$\n",
        "* Constraint 2: $-10x_1 + -12x_2 <= -90$"
      ],
      "metadata": {
        "id": "AFzuWdWVKXia"
      }
    },
    {
      "cell_type": "code",
      "execution_count": 9,
      "metadata": {
        "id": "CWODQVQez13j",
        "colab": {
          "base_uri": "https://localhost:8080/"
        },
        "outputId": "cb7c47e8-d0a5-4ef8-b58d-4e62bc30cb2f"
      },
      "outputs": [
        {
          "output_type": "stream",
          "name": "stdout",
          "text": [
            "X1: 1.5 hours\n",
            "X2: 6.25 hours\n"
          ]
        }
      ],
      "source": [
        "import scipy.optimize\n",
        "\n",
        "result = scipy.optimize.linprog(\n",
        "    [50, 80],  # Cost function: 50x_1 + 80x_2\n",
        "    A_ub=[[5, 2], [-10, -12]],  # Coefficients for inequalities\n",
        "    b_ub=[20, -90],  # Constraints for inequalities: 20 and -90\n",
        ")\n",
        "\n",
        "if result.success:\n",
        "    print(f\"X1: {round(result.x[0], 2)} hours\")\n",
        "    print(f\"X2: {round(result.x[1], 2)} hours\")\n",
        "else:\n",
        "    print(\"No solution\")\n"
      ]
    },
    {
      "cell_type": "markdown",
      "source": [
        "#Constconstraint Satisfaction"
      ],
      "metadata": {
        "id": "92BeSl4pJe7C"
      }
    },
    {
      "cell_type": "markdown",
      "source": [
        "Naive backtracking search without any heuristics or inference."
      ],
      "metadata": {
        "id": "EsBkgs-rJvKV"
      }
    },
    {
      "cell_type": "code",
      "source": [
        "VARIABLES = [\"A\", \"B\", \"C\", \"D\", \"E\", \"F\", \"G\"]\n",
        "CONSTRAINTS = [\n",
        "    (\"A\", \"B\"),\n",
        "    (\"A\", \"C\"),\n",
        "    (\"B\", \"C\"),\n",
        "    (\"B\", \"D\"),\n",
        "    (\"B\", \"E\"),\n",
        "    (\"C\", \"E\"),\n",
        "    (\"C\", \"F\"),\n",
        "    (\"D\", \"E\"),\n",
        "    (\"E\", \"F\"),\n",
        "    (\"E\", \"G\"),\n",
        "    (\"F\", \"G\")\n",
        "]\n",
        "\n",
        "\n",
        "def backtrack(assignment):\n",
        "    \"\"\"Runs backtracking search to find an assignment.\"\"\"\n",
        "\n",
        "    # Check if assignment is complete\n",
        "    if len(assignment) == len(VARIABLES):\n",
        "        return assignment\n",
        "\n",
        "    # Try a new variable\n",
        "    var = select_unassigned_variable(assignment)\n",
        "    for value in [\"Monday\", \"Tuesday\", \"Wednesday\"]:\n",
        "        new_assignment = assignment.copy()\n",
        "        new_assignment[var] = value\n",
        "        if consistent(new_assignment):\n",
        "            result = backtrack(new_assignment)\n",
        "            if result is not None:\n",
        "                return result\n",
        "    return None\n",
        "\n",
        "\n",
        "def select_unassigned_variable(assignment):\n",
        "    \"\"\"Chooses a variable not yet assigned, in order.\"\"\"\n",
        "    for variable in VARIABLES:\n",
        "        if variable not in assignment:\n",
        "            return variable\n",
        "    return None\n",
        "\n",
        "\n",
        "def consistent(assignment):\n",
        "    \"\"\"Checks to see if an assignment is consistent.\"\"\"\n",
        "    for (x, y) in CONSTRAINTS:\n",
        "\n",
        "        # Only consider arcs where both are assigned\n",
        "        if x not in assignment or y not in assignment:\n",
        "            continue\n",
        "\n",
        "        # If both have same value, then not consistent\n",
        "        if assignment[x] == assignment[y]:\n",
        "            return False\n",
        "\n",
        "    # If nothing inconsistent, then assignment is consistent\n",
        "    return True"
      ],
      "metadata": {
        "id": "_PbvUbh4z_TW"
      },
      "execution_count": 10,
      "outputs": []
    },
    {
      "cell_type": "code",
      "source": [
        "solution = backtrack(dict())\n",
        "print(solution)"
      ],
      "metadata": {
        "colab": {
          "base_uri": "https://localhost:8080/"
        },
        "id": "8hnusGu5Jrik",
        "outputId": "14c02586-5002-4b1d-ba8e-c3beda49c49a"
      },
      "execution_count": 11,
      "outputs": [
        {
          "output_type": "stream",
          "name": "stdout",
          "text": [
            "{'A': 'Monday', 'B': 'Tuesday', 'C': 'Wednesday', 'D': 'Wednesday', 'E': 'Monday', 'F': 'Tuesday', 'G': 'Wednesday'}\n"
          ]
        }
      ]
    },
    {
      "cell_type": "code",
      "source": [
        "!pip install python-constraint"
      ],
      "metadata": {
        "id": "1AVgxUJtJ-ey",
        "colab": {
          "base_uri": "https://localhost:8080/"
        },
        "outputId": "da852533-300b-454c-bddb-69d0381c3085"
      },
      "execution_count": 12,
      "outputs": [
        {
          "output_type": "stream",
          "name": "stdout",
          "text": [
            "Collecting python-constraint\n",
            "  Downloading python-constraint-1.4.0.tar.bz2 (18 kB)\n",
            "  Preparing metadata (setup.py) ... \u001b[?25l\u001b[?25hdone\n",
            "Building wheels for collected packages: python-constraint\n",
            "  Building wheel for python-constraint (setup.py) ... \u001b[?25l\u001b[?25hdone\n",
            "  Created wheel for python-constraint: filename=python_constraint-1.4.0-py2.py3-none-any.whl size=24061 sha256=b4275bd0d9c7c5dc2e34453d3d96b99d07d0e53b09d6b55f801092b14c85ac40\n",
            "  Stored in directory: /root/.cache/pip/wheels/c1/d2/3d/082849b61a9c6de02d4a7c8a402c224640f08d8a971307b92b\n",
            "Successfully built python-constraint\n",
            "Installing collected packages: python-constraint\n",
            "Successfully installed python-constraint-1.4.0\n"
          ]
        }
      ]
    },
    {
      "cell_type": "code",
      "source": [
        "from constraint import *\n",
        "\n",
        "problem = Problem()\n",
        "\n",
        "# Add variables\n",
        "problem.addVariables(\n",
        "    [\"A\", \"B\", \"C\", \"D\", \"E\", \"F\", \"G\"],\n",
        "    [\"Monday\", \"Tuesday\", \"Wednesday\"]\n",
        ")\n",
        "\n",
        "# Add constraints\n",
        "CONSTRAINTS = [\n",
        "    (\"A\", \"B\"),\n",
        "    (\"A\", \"C\"),\n",
        "    (\"B\", \"C\"),\n",
        "    (\"B\", \"D\"),\n",
        "    (\"B\", \"E\"),\n",
        "    (\"C\", \"E\"),\n",
        "    (\"C\", \"F\"),\n",
        "    (\"D\", \"E\"),\n",
        "    (\"E\", \"F\"),\n",
        "    (\"E\", \"G\"),\n",
        "    (\"F\", \"G\")\n",
        "]\n",
        "for x, y in CONSTRAINTS:\n",
        "    problem.addConstraint(lambda x, y: x != y, (x, y))\n"
      ],
      "metadata": {
        "id": "REUAFs_5P3OY"
      },
      "execution_count": 13,
      "outputs": []
    },
    {
      "cell_type": "markdown",
      "source": [
        "Solve problem"
      ],
      "metadata": {
        "id": "aLbo2Up0J6hc"
      }
    },
    {
      "cell_type": "code",
      "source": [
        "for solution in problem.getSolutions():\n",
        "    print(solution)"
      ],
      "metadata": {
        "id": "8XCPI46tJ4It",
        "colab": {
          "base_uri": "https://localhost:8080/"
        },
        "outputId": "ebbaa323-b774-4a53-8864-82f0c6f59c21"
      },
      "execution_count": 14,
      "outputs": [
        {
          "output_type": "stream",
          "name": "stdout",
          "text": [
            "{'E': 'Wednesday', 'B': 'Tuesday', 'C': 'Monday', 'F': 'Tuesday', 'A': 'Wednesday', 'D': 'Monday', 'G': 'Monday'}\n",
            "{'E': 'Wednesday', 'B': 'Monday', 'C': 'Tuesday', 'F': 'Monday', 'A': 'Wednesday', 'D': 'Tuesday', 'G': 'Tuesday'}\n",
            "{'E': 'Tuesday', 'B': 'Wednesday', 'C': 'Monday', 'F': 'Wednesday', 'A': 'Tuesday', 'D': 'Monday', 'G': 'Monday'}\n",
            "{'E': 'Tuesday', 'B': 'Monday', 'C': 'Wednesday', 'F': 'Monday', 'A': 'Tuesday', 'D': 'Wednesday', 'G': 'Wednesday'}\n",
            "{'E': 'Monday', 'B': 'Tuesday', 'C': 'Wednesday', 'F': 'Tuesday', 'A': 'Monday', 'D': 'Wednesday', 'G': 'Wednesday'}\n",
            "{'E': 'Monday', 'B': 'Wednesday', 'C': 'Tuesday', 'F': 'Wednesday', 'A': 'Monday', 'D': 'Tuesday', 'G': 'Tuesday'}\n"
          ]
        }
      ]
    },
    {
      "cell_type": "code",
      "source": [],
      "metadata": {
        "id": "R7cvSwZta4_U"
      },
      "execution_count": null,
      "outputs": []
    }
  ]
}